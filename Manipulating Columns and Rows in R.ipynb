{
 "cells": [
  {
   "cell_type": "markdown",
   "id": "ca3e43fc",
   "metadata": {},
   "source": [
    "To Add a column:"
   ]
  },
  {
   "cell_type": "code",
   "execution_count": null,
   "id": "723c4f52",
   "metadata": {},
   "outputs": [],
   "source": [
    "babies$Footprint = \" \""
   ]
  },
  {
   "cell_type": "markdown",
   "id": "ea8443b2",
   "metadata": {},
   "source": [
    "To Rename a Column:"
   ]
  },
  {
   "cell_type": "code",
   "execution_count": null,
   "id": "e0504117",
   "metadata": {},
   "outputs": [],
   "source": [
    "names(babies[names(babies) == \"ParentPhoneNumber\"]) <- \"Phone\""
   ]
  },
  {
   "cell_type": "markdown",
   "id": "83ae406f",
   "metadata": {},
   "source": [
    "Combining columns:"
   ]
  },
  {
   "cell_type": "code",
   "execution_count": null,
   "id": "c8c899fe",
   "metadata": {},
   "outputs": [],
   "source": [
    "install.packages(\"tidyr\")\n",
    "library(\"tidyr\")\n",
    "\n",
    "babies2 <- unite(babies1, Address, StreetAddress, City, Zipcode, sep = \"/\")"
   ]
  },
  {
   "cell_type": "markdown",
   "id": "3ccc1ed9",
   "metadata": {},
   "source": [
    "* Creates a function with a new column named Address\n",
    "* Includes StreetAddress, City, and Zipcode\n",
    "* Separator (sep =) specifies how you want your data broken up\n",
    "* It is important, when you choose a separator, it does not occur naturally in your data, such as periods or commas.\n",
    "* This will mess up your data!\n",
    "* You will get an error message that states:\n",
    "\n",
    "<p>Warning message:<br>\n",
    "<p>Expected 3 pieces.  Additional pieces discarded in 37 rows......</p>\n",
    "\n",
    "* Even though the system generates an error message, the code will still run so examine columns carefully when choosing a separator."
   ]
  },
  {
   "cell_type": "markdown",
   "id": "4c4cffe6",
   "metadata": {},
   "source": [
    "To separate columns:"
   ]
  },
  {
   "cell_type": "code",
   "execution_count": null,
   "id": "af1e82be",
   "metadata": {},
   "outputs": [],
   "source": [
    "babies1 <- separate(babies, Address, c(\"StreetAddress\", \"City\", \"Zipcode\"), sep=\"/\")"
   ]
  },
  {
   "cell_type": "markdown",
   "id": "3078ece5",
   "metadata": {},
   "source": [
    "Subsetting Data\n",
    "* Taking a portion of data into its own dataset\n",
    "\n",
    "Subsetting using indexes:"
   ]
  },
  {
   "cell_type": "code",
   "execution_count": null,
   "id": "dae60be6",
   "metadata": {},
   "outputs": [],
   "source": [
    "babies6 <- babies[1:5, 1:3]"
   ]
  },
  {
   "cell_type": "markdown",
   "id": "dbf2279d",
   "metadata": {},
   "source": [
    "Subsetting using column names:"
   ]
  },
  {
   "cell_type": "code",
   "execution_count": null,
   "id": "8e649677",
   "metadata": {},
   "outputs": [],
   "source": [
    "keeps <- c(\"Names\", \"Birthday\", \"ParentEmail\")\n",
    "babies7 <- babies[keeps]"
   ]
  },
  {
   "cell_type": "code",
   "execution_count": null,
   "id": "e9bfde1f",
   "metadata": {},
   "outputs": [],
   "source": []
  },
  {
   "cell_type": "code",
   "execution_count": null,
   "id": "5bfcdccb",
   "metadata": {},
   "outputs": [],
   "source": []
  }
 ],
 "metadata": {
  "kernelspec": {
   "display_name": "R",
   "language": "R",
   "name": "ir"
  },
  "language_info": {
   "codemirror_mode": "r",
   "file_extension": ".r",
   "mimetype": "text/x-r-source",
   "name": "R",
   "pygments_lexer": "r",
   "version": "4.1.2"
  }
 },
 "nbformat": 4,
 "nbformat_minor": 5
}
